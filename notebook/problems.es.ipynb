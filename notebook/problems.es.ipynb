{
 "cells": [
  {
   "cell_type": "markdown",
   "id": "d9d036c6",
   "metadata": {},
   "source": [
    "# Problemas de prueba de hipótesis"
   ]
  },
  {
   "cell_type": "markdown",
   "id": "d157c4db",
   "metadata": {},
   "source": [
    "## Ejercicio 1\n",
    "\n",
    "Usted es un nutricionista que investiga dos tipos diferentes de dietas para ver si existe una diferencia significativa en la pérdida de peso después de un mes. Eliges dos grupos aleatorios de personas; un grupo sigue la primera dieta y el otro sigue la segunda. Al final del mes, se registra la pérdida de peso (en kg) de cada persona:\n",
    "\n",
    "| Diet 1 | Diet 2 |\n",
    "|:-------|:-------|\n",
    "| 2.0 | 3.0 |\n",
    "| 2.5 | 3.2 |\n",
    "| 3.0 | 3.1 |\n",
    "| 2.8 | 2.9 |\n",
    "| 2.3 | 2.8 |\n",
    "| 2.7 | 3.0 |\n",
    "| 2.5 | 3.2 |\n",
    "\n",
    "Con estos datos se busca responder a la siguiente pregunta: ¿Existe una diferencia significativa en la pérdida de peso promedio entre las personas que siguieron la primera dieta y las que siguieron la segunda dieta?\n",
    "\n",
    "Para sacar conclusiones, siga los siguientes puntos:\n",
    "\n",
    "-Enunciar la hipótesis: hipótesis nula y alternativa.\n",
    "-Realizar la prueba para comprobar la hipótesis. Puede utilizar la prueba t de Student.\n",
    "-Analizar las conclusiones."
   ]
  },
  {
   "cell_type": "code",
   "execution_count": null,
   "id": "5b47579e",
   "metadata": {},
   "outputs": [
    {
     "name": "stdout",
     "output_type": "stream",
     "text": [
      "P_Valor1 =  0.9635409177367069\n",
      "P_Valor2 =  0.5905246580529597\n",
      "P_Valor =  0.15767770055358\n"
     ]
    }
   ],
   "source": [
    "import numpy as np\n",
    "from scipy import stats\n",
    "\n",
    "# Definimos los datos\n",
    "dieta1 = [2.0, 2.5, 3.0, 2.8, 2.3, 2.7, 2.5]\n",
    "dieta2 = [3.0, 3.2, 3.1, 2.9, 2.8, 3.0, 3.2]\n",
    "\n",
    "# Primero debemos comprobar que los grupos deben seguir una distribución normal\n",
    "print('P_Valor1 = ',stats.shapiro(dieta1).pvalue)\n",
    "print('P_Valor2 = ',stats.shapiro(dieta2).pvalue)\n",
    "\n",
    "# Ahora debemos comprobar si la varianza entre grupos es la misma\n",
    "print('P_Valor = ',stats.levene(dieta1, dieta2).pvalue)"
   ]
  },
  {
   "cell_type": "markdown",
   "id": "b7f69613",
   "metadata": {},
   "source": [
    "Puesto que los P_Valores > 0.05, se concluye que los datos son consistentes con una Distribución Normal y no se detecta una diferencia significativa entre las varianzas de los dos grupos.\n",
    "\n",
    "Continuamos con el análisis"
   ]
  },
  {
   "cell_type": "code",
   "execution_count": null,
   "id": "8e0f3cf0",
   "metadata": {},
   "outputs": [
    {
     "name": "stdout",
     "output_type": "stream",
     "text": [
      "Hipotesis Nula = No hay diferencia significativa en la pérdida de peso promedio de las dos dietas. \n",
      "Hipotesis Alternativa = Hay diferencia significativa en la pérdida de peso promedio de las dos dietas. \n",
      "\n",
      "Estadístico t: -3.5383407969933938\n",
      "Valor p: 0.004083270191713912\n",
      "\n",
      "La evidencia de los datos es suficientemente fuerte como para rechazar la hipótesis nula H₀, es decir, respaldan la Hipótesis alternativa (H₁).\n",
      "Es muy improbable que la evidencia observada se deba al azar (p-valor=0.004083270191713912).\n",
      "\n",
      "Media de pérdida de peso en Dieta 1: 2.54 kg\n",
      "\n",
      "Media de pérdida de peso en Dieta 2: 3.03 kg\n"
     ]
    }
   ],
   "source": [
    "# TODO\n",
    "# Enunciamos las hippotesís\n",
    "H0 = 'No hay diferencia significativa en la pérdida de peso promedio de las dos dietas.'\n",
    "H1 = 'Hay diferencia significativa en la pérdida de peso promedio de las dos dietas.'\n",
    "\n",
    "print('Hipotesis Nula =', H0,'\\nHipotesis Alternativa =', H1,'\\n')\n",
    "\n",
    "# Realizamos la prueba t de Student\n",
    "t_statistico, p_value = stats.ttest_ind(dieta1, dieta2)\n",
    "\n",
    "# Imprimimos los resultados\n",
    "print(f\"Estadístico t: {t_statistico}\")\n",
    "print(f\"Valor p: {p_value}\\n\")\n",
    "\n",
    "alpha = 0.05\n",
    "\n",
    "if p_value < alpha:\n",
    "    print(\"La evidencia de los datos es suficientemente fuerte como para rechazar la hipótesis nula H₀, es decir, respaldan la Hipótesis alternativa (H₁).\")\n",
    "    print(f\"Es muy improbable que la evidencia observada se deba al azar (p-valor={p_value}).\")\n",
    "else:\n",
    "    print(\"No hay suficiente evidencia para rechazar la hipótesis nula H₀, es decir, no hay suficiente evidencia para afirmar que la hipótesis nula es falsa.\")\n",
    "    print(\"Esto no implica que aceptemos H₀, ya que la ausencia de evidencia no es lo mismo que evidencia en su favor.\")\n",
    "    print(f\"Es muy probable que la evidencia observada se deba al azar (p-valor={p_value}).\")\n",
    "\n",
    "# Calculamos las medias de cada dieta\n",
    "media_dieta1 = np.mean(dieta1)\n",
    "media_dieta2 = np.mean(dieta2)\n",
    "\n",
    "print(f\"\\nMedia de pérdida de peso en Dieta 1: {media_dieta1:.2f} kg\")\n",
    "print(f\"\\nMedia de pérdida de peso en Dieta 2: {media_dieta2:.2f} kg\")"
   ]
  },
  {
   "cell_type": "markdown",
   "id": "f432e18e",
   "metadata": {},
   "source": [
    "## ANOVA\n",
    "\n",
    "**ANOVA** (*Analysis of Variance - Análisis de variación*) Es una técnica estadística utilizada para comparar las medidas de dos o más grupos. La idea detrás de ANOVA es descomponer la variabilidad total de los datos en dos componentes: variabilidad entre grupos y variabilidad dentro de los grupos:\n",
    "\n",
    "- **Variabilidad entre grupos**: Esta variabilidad se refiere a las diferencias entre las medias del grupo. Si esta variabilidad es considerablemente mayor que la variabilidad dentro del grupo, podría ser una indicación de que al menos una de las medias del grupo es diferente.\n",
    "- **Variabilidad dentro del grupo**: Esta variabilidad se refiere a la dispersión de los datos dentro de cada grupo. Si todos los grupos tienen una variabilidad similar, entonces cualquier diferencia notable en las medias de los grupos podría considerarse significativa.\n",
    "\n",
    "Las hipótesis en ANOVA suelen incluir:\n",
    "\n",
    "- **Hipótesis nula** ($H₀$): Las medias de todos los grupos son iguales.\n",
    "- **Hipótesis alternativa** ($H₁$): Al menos una de las medias del grupo es diferente.\n",
    "\n",
    "Si el resultado de la prueba ANOVA es significativo (por ejemplo, un valor p inferior a un umbral como 0,05), esto sugiere que al menos la media de un grupo es diferente."
   ]
  },
  {
   "cell_type": "markdown",
   "id": "fc5f3721",
   "metadata": {},
   "source": [
    "## Ejercicio 2\n",
    "\n",
    "Un agricultor decide probar tres tipos diferentes de fertilizantes para determinar si alguno es superior en términos de producción de maíz. El agricultor planta maíz en 15 parcelas idénticas y utiliza los tres fertilizantes (5 parcelas para cada tipo). Al final de la temporada mide el rendimiento de maíz (en kg) de cada parcela, con el siguiente resultado:\n",
    "\n",
    "| Fertilizante 1 | Fertilizante 2 | Fertilizante 3 |\n",
    "|:-------------|:-------------|:-------------|\n",
    "| 20 | 22 | 24 |\n",
    "| 21 | 21 | 23 |\n",
    "| 20 | 23 | 22 |\n",
    "| 19 | 22 | 23 |\n",
    "| 20 | 21 | 24 |\n",
    "\n",
    "Con estos datos busca responder la siguiente pregunta: ¿Existe una diferencia significativa en el rendimiento promedio del maíz entre los tres tipos de fertilizantes?\n",
    "\n",
    "Para ayudarte, sigue los siguientes puntos:\n",
    "\n",
    "-Enunciar la hipótesis: hipótesis nula y alternativa.\n",
    "-Realizar la prueba ANOVA.\n",
    "-Analizar las conclusiones.\n",
    "-Si un fertilizante es mejor que otro, ¿cómo podemos saberlo?"
   ]
  },
  {
   "cell_type": "code",
   "execution_count": 32,
   "id": "0d6e78d3",
   "metadata": {},
   "outputs": [
    {
     "name": "stdout",
     "output_type": "stream",
     "text": [
      "P_Valor1 =  0.32542950716414576\n",
      "P_Valor2 =  0.3140395561440371\n",
      "P_Valor3 =  0.3140395561440371\n",
      "P_Valor =  0.8039599174006208\n"
     ]
    }
   ],
   "source": [
    "# Definimos los datos\n",
    "fertilizante1 = [20, 21, 20, 19, 20]\n",
    "fertilizante2 = [22, 21, 23, 22, 21]\n",
    "fertilizante3 = [24, 23, 22, 23, 24]\n",
    "\n",
    "# Primero debemos comprobar que los grupos deben seguir una distribución normal\n",
    "print('P_Valor1 = ',stats.shapiro(fertilizante1).pvalue)\n",
    "print('P_Valor2 = ',stats.shapiro(fertilizante2).pvalue)\n",
    "print('P_Valor3 = ',stats.shapiro(fertilizante3).pvalue)\n",
    "\n",
    "# Ahora debemos comprobar si la varianza entre grupos es la misma\n",
    "print('P_Valor = ',stats.levene(fertilizante1, fertilizante2, fertilizante3).pvalue)"
   ]
  },
  {
   "cell_type": "markdown",
   "id": "f699d921",
   "metadata": {},
   "source": [
    "Puesto que los P_Valores > 0.05, se concluye que los datos son consistentes con una Distribución Normal y no se detecta una diferencia significativa entre las varianzas de los tres grupos.\n",
    "\n",
    "Continuamos con el análisis"
   ]
  },
  {
   "cell_type": "code",
   "execution_count": 33,
   "id": "eecad0ca",
   "metadata": {},
   "outputs": [
    {
     "name": "stdout",
     "output_type": "stream",
     "text": [
      "Hipótesis nula (H0): No hay diferencia significativa en el rendimiento promedio del maíz entre los tres tipos de fertilizantes.\n",
      "\n",
      "Hipótesis alternativa (H1): Al menos un fertilizante tiene un rendimiento promedio de maíz significativamente diferente.\n",
      "\n",
      "Estadístico F: 20.315789473684188\n",
      "Valor p: 0.00014047824793190475\n",
      "\n",
      "La evidencia de los datos es suficientemente fuerte como para rechazar la hipótesis nula H₀, es decir, respaldan la Hipótesis alternativa (H₁).\n",
      "Es muy improbable que la evidencia observada se deba al azar (p-valor=0.00014047824793190475).\n",
      "\n",
      "Media de peso en Fertilizante1: 20.00 kg\n",
      "Media de peso en Fertilizante2: 21.80 kg\n",
      "Media de peso en Fertilizante3: 23.20 kg\n"
     ]
    }
   ],
   "source": [
    "# TODO\n",
    "# Enunciamos las hipótesis\n",
    "print('Hipótesis nula (H0): No hay diferencia significativa en el rendimiento promedio del maíz entre los tres tipos de fertilizantes.\\n')\n",
    "print('Hipótesis alternativa (H1): Al menos un fertilizante tiene un rendimiento promedio de maíz significativamente diferente.\\n')\n",
    "\n",
    "# Realizamos la prueba ANOVA\n",
    "f_statistico, p_valor = stats.f_oneway(fertilizante1, fertilizante2, fertilizante3)\n",
    "\n",
    "# Imprimimos los resultados\n",
    "print(f\"Estadístico F: {f_statistico}\")\n",
    "print(f\"Valor p: {p_valor}\\n\")\n",
    "\n",
    "alpha = 0.05\n",
    "\n",
    "if p_valor < alpha:\n",
    "    print(\"La evidencia de los datos es suficientemente fuerte como para rechazar la hipótesis nula H₀, es decir, respaldan la Hipótesis alternativa (H₁).\")\n",
    "    print(f\"Es muy improbable que la evidencia observada se deba al azar (p-valor={p_valor}).\")\n",
    "else:\n",
    "    print(\"No hay suficiente evidencia para rechazar la hipótesis nula H₀, es decir, no hay suficiente evidencia para afirmar que la hipótesis nula es falsa.\")\n",
    "    print(\"Esto no implica que aceptemos H₀, ya que la ausencia de evidencia no es lo mismo que evidencia en su favor.\")\n",
    "    print(f\"Es muy probable que la evidencia observada se deba al azar (p-valor={p_valor}).\")\n",
    "\n",
    "media_fert_1 = np.mean(fertilizante1)\n",
    "media_fert_2 = np.mean(fertilizante2)\n",
    "media_fert_3 = np.mean(fertilizante3)\n",
    "\n",
    "print(f\"\\nMedia de peso en Fertilizante1: {media_fert_1:.2f} kg\")\n",
    "print(f\"Media de peso en Fertilizante2: {media_fert_2:.2f} kg\")\n",
    "print(f\"Media de peso en Fertilizante3: {media_fert_3:.2f} kg\")"
   ]
  },
  {
   "cell_type": "markdown",
   "id": "09d161a9",
   "metadata": {},
   "source": [
    "El test de Tukey nos indicará específicamente qué pares de grupos tienen diferencias significativas."
   ]
  },
  {
   "cell_type": "code",
   "execution_count": null,
   "id": "f3429624",
   "metadata": {},
   "outputs": [
    {
     "name": "stdout",
     "output_type": "stream",
     "text": [
      "\n",
      "tukey_resultados:\n",
      "        Multiple Comparison of Means - Tukey HSD, FWER=0.05        \n",
      "==================================================================\n",
      "    group1         group2     meandiff p-adj  lower  upper  reject\n",
      "------------------------------------------------------------------\n",
      "Fertilizante 1 Fertilizante 2      1.8 0.0099 0.4572 3.1428   True\n",
      "Fertilizante 1 Fertilizante 3      3.2 0.0001 1.8572 4.5428   True\n",
      "Fertilizante 2 Fertilizante 3      1.4 0.0409 0.0572 2.7428   True\n",
      "------------------------------------------------------------------\n"
     ]
    }
   ],
   "source": [
    "import statsmodels.api as sm\n",
    "from statsmodels.stats.multicomp import pairwise_tukeyhsd\n",
    "\n",
    "# Concatenamos los datos y creamos etiquetas\n",
    "rendimientos = np.concatenate([fertilizante1, fertilizante2, fertilizante3])\n",
    "etiquetas = ['Fertilizante 1'] * len(fertilizante1) + ['Fertilizante 2'] * len(fertilizante2) + ['Fertilizante 3'] * len(fertilizante3)\n",
    "\n",
    "# Realizamos el test de Tukey\n",
    "tukey_resultados = pairwise_tukeyhsd(rendimientos, etiquetas)\n",
    "\n",
    "# Imprimimos los resultados del test de Tukey\n",
    "print('\\ntukey_resultados:\\n',tukey_resultados)"
   ]
  },
  {
   "cell_type": "markdown",
   "id": "abf9d520",
   "metadata": {},
   "source": [
    "Conclusiones del test de tukey:\n",
    "\n",
    "a) Fertilizante 1 vs Fertilizante 2:\n",
    "Diferencia media: 1.8\n",
    "Valor p ajustado: 0.0099 (< 0.05)\n",
    "Se rechaza la hipótesis nula\n",
    "Conclusión: Hay una diferencia significativa entre estos fertilizantes.\n",
    "\n",
    "b) Fertilizante 1 vs Fertilizante 3:\n",
    "Diferencia media: 3.2\n",
    "Valor p ajustado: 0.0001 (< 0.05)\n",
    "Se rechaza la hipótesis nula\n",
    "Conclusión: Hay una diferencia muy significativa entre estos fertilizantes.\n",
    "\n",
    "c) Fertilizante 2 vs Fertilizante 3:\n",
    "Diferencia media: 1.4\n",
    "Valor p ajustado: 0.0409 (< 0.05)\n",
    "Se rechaza la hipótesis nula\n",
    "Conclusión: Hay una diferencia significativa entre estos fertilizantes.\n",
    "\n",
    "Conclusión General: Existen diferencias significativas entre todos los pares de fertilizantes. El Fertilizante 3 parece ser el más efectivo, seguido por el Fertilizante 2, y el Fertilizante 1 es el menos efectivo. La mayor diferencia se observa entre el Fertilizante 1 y el Fertilizante 3."
   ]
  }
 ],
 "metadata": {
  "kernelspec": {
   "display_name": "Python 3",
   "language": "python",
   "name": "python3"
  },
  "language_info": {
   "codemirror_mode": {
    "name": "ipython",
    "version": 3
   },
   "file_extension": ".py",
   "mimetype": "text/x-python",
   "name": "python",
   "nbconvert_exporter": "python",
   "pygments_lexer": "ipython3",
   "version": "3.11.4"
  }
 },
 "nbformat": 4,
 "nbformat_minor": 5
}
